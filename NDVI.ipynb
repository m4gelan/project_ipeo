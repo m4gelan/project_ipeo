{
 "cells": [
  {
   "cell_type": "code",
   "execution_count": 2,
   "metadata": {},
   "outputs": [
    {
     "ename": "AttributeError",
     "evalue": "'NoneType' object has no attribute 'GetSubDatasets'",
     "output_type": "error",
     "traceback": [
      "\u001b[1;31m---------------------------------------------------------------------------\u001b[0m",
      "\u001b[1;31mAttributeError\u001b[0m                            Traceback (most recent call last)",
      "Cell \u001b[1;32mIn[2], line 13\u001b[0m\n\u001b[0;32m     10\u001b[0m hdf_file \u001b[38;5;241m=\u001b[39m gdal\u001b[38;5;241m.\u001b[39mOpen(file_path)\n\u001b[0;32m     12\u001b[0m \u001b[38;5;66;03m# List all subdatasets in the HDF file\u001b[39;00m\n\u001b[1;32m---> 13\u001b[0m subdatasets \u001b[38;5;241m=\u001b[39m \u001b[43mhdf_file\u001b[49m\u001b[38;5;241;43m.\u001b[39;49m\u001b[43mGetSubDatasets\u001b[49m()\n\u001b[0;32m     14\u001b[0m \u001b[38;5;28mprint\u001b[39m(\u001b[38;5;124m\"\u001b[39m\u001b[38;5;124mSubdatasets available:\u001b[39m\u001b[38;5;124m\"\u001b[39m)\n\u001b[0;32m     15\u001b[0m \u001b[38;5;28;01mfor\u001b[39;00m i, subdataset \u001b[38;5;129;01min\u001b[39;00m \u001b[38;5;28menumerate\u001b[39m(subdatasets):\n",
      "\u001b[1;31mAttributeError\u001b[0m: 'NoneType' object has no attribute 'GetSubDatasets'"
     ]
    }
   ],
   "source": [
    "import h5py\n",
    "import numpy as np\n",
    "import matplotlib.pyplot as plt\n",
    "from osgeo import gdal\n",
    "\n",
    "# Specify the HDF file path\n",
    "file_path = '/Data/MOD13A3.A2010001.h18v07.061.2021152171119.hdf'\n",
    "\n",
    "# Open the HDF file\n",
    "hdf_file = gdal.Open(file_path)\n",
    "\n",
    "# List all subdatasets in the HDF file\n",
    "subdatasets = hdf_file.GetSubDatasets()\n",
    "print(\"Subdatasets available:\")\n",
    "for i, subdataset in enumerate(subdatasets):\n",
    "    print(f\"{i}: {subdataset[0]}\")\n",
    "\n",
    "# Access the NDVI dataset\n",
    "ndvi_dataset_path = subdatasets[0][0]  # Assuming NDVI is the first subdataset\n",
    "ndvi_dataset = gdal.Open(ndvi_dataset_path)\n",
    "ndvi_data = ndvi_dataset.ReadAsArray()\n",
    "\n",
    "# Scale NDVI values (if needed)\n",
    "scale_factor = 0.0001  # Standard MODIS scale factor for NDVI\n",
    "ndvi_data_scaled = ndvi_data * scale_factor\n",
    "\n",
    "# Mask invalid values (typically MODIS uses -3000 for invalid data)\n",
    "ndvi_data_scaled = np.ma.masked_where(ndvi_data_scaled < -1, ndvi_data_scaled)\n",
    "\n",
    "# Plot the NDVI values\n",
    "plt.figure(figsize=(10, 8))\n",
    "plt.imshow(ndvi_data_scaled, cmap='YlGn', vmin=0, vmax=1)\n",
    "plt.colorbar(label=\"NDVI\")\n",
    "plt.title(\"MODIS NDVI\")\n",
    "plt.xlabel(\"Column Index\")\n",
    "plt.ylabel(\"Row Index\")\n",
    "plt.show()\n"
   ]
  },
  {
   "cell_type": "code",
   "execution_count": null,
   "metadata": {},
   "outputs": [],
   "source": []
  }
 ],
 "metadata": {
  "kernelspec": {
   "display_name": "ipeo_env",
   "language": "python",
   "name": "python3"
  },
  "language_info": {
   "codemirror_mode": {
    "name": "ipython",
    "version": 3
   },
   "file_extension": ".py",
   "mimetype": "text/x-python",
   "name": "python",
   "nbconvert_exporter": "python",
   "pygments_lexer": "ipython3",
   "version": "3.9.20"
  }
 },
 "nbformat": 4,
 "nbformat_minor": 2
}
