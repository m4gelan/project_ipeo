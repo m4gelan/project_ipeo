{
 "cells": [
  {
   "cell_type": "code",
   "execution_count": 6,
   "metadata": {},
   "outputs": [
    {
     "ename": "OSError",
     "evalue": "[Errno -51] NetCDF: Unknown file format: '/Data/MOD13A3.A2010001.h18v07.061.2021152171119.hdf'",
     "output_type": "error",
     "traceback": [
      "\u001b[1;31m---------------------------------------------------------------------------\u001b[0m",
      "\u001b[1;31mOSError\u001b[0m                                   Traceback (most recent call last)",
      "Cell \u001b[1;32mIn[6], line 5\u001b[0m\n\u001b[0;32m      3\u001b[0m \u001b[38;5;66;03m# Open the file\u001b[39;00m\n\u001b[0;32m      4\u001b[0m file_path \u001b[38;5;241m=\u001b[39m \u001b[38;5;124m\"\u001b[39m\u001b[38;5;124m/Data/MOD13A3.A2010001.h18v07.061.2021152171119.hdf\u001b[39m\u001b[38;5;124m\"\u001b[39m\n\u001b[1;32m----> 5\u001b[0m dataset \u001b[38;5;241m=\u001b[39m \u001b[43mDataset\u001b[49m\u001b[43m(\u001b[49m\u001b[43mfile_path\u001b[49m\u001b[43m,\u001b[49m\u001b[43m \u001b[49m\u001b[43mmode\u001b[49m\u001b[38;5;241;43m=\u001b[39;49m\u001b[38;5;124;43m'\u001b[39;49m\u001b[38;5;124;43mr\u001b[39;49m\u001b[38;5;124;43m'\u001b[39;49m\u001b[43m)\u001b[49m\n\u001b[0;32m      7\u001b[0m \u001b[38;5;66;03m# Access the NDVI variable\u001b[39;00m\n\u001b[0;32m      8\u001b[0m ndvi \u001b[38;5;241m=\u001b[39m dataset\u001b[38;5;241m.\u001b[39mvariables[\u001b[38;5;124m'\u001b[39m\u001b[38;5;124m1 km monthly NDVI\u001b[39m\u001b[38;5;124m'\u001b[39m][:]\n",
      "File \u001b[1;32msrc\\\\netCDF4\\\\_netCDF4.pyx:2521\u001b[0m, in \u001b[0;36mnetCDF4._netCDF4.Dataset.__init__\u001b[1;34m()\u001b[0m\n",
      "File \u001b[1;32msrc\\\\netCDF4\\\\_netCDF4.pyx:2158\u001b[0m, in \u001b[0;36mnetCDF4._netCDF4._ensure_nc_success\u001b[1;34m()\u001b[0m\n",
      "\u001b[1;31mOSError\u001b[0m: [Errno -51] NetCDF: Unknown file format: '/Data/MOD13A3.A2010001.h18v07.061.2021152171119.hdf'"
     ]
    }
   ],
   "source": [
    "from netCDF4 import Dataset\n",
    "import matplotlib.pyplot as plt\n",
    "# Open the file\n",
    "file_path = \"/Data/MOD13A3.A2010001.h18v07.061.2021152171119.hdf\"\n",
    "dataset = Dataset(file_path, mode='r')\n",
    "\n",
    "# Access the NDVI variable\n",
    "ndvi = dataset.variables['1 km monthly NDVI'][:]\n",
    "evi  = dataset.variables['1 km monthly EVI'][:]\n",
    "# NDVI is likely scaled; apply scaling factor if needed (check metadata or documentation)\n",
    "# For now, assume it’s ready for visualization\n",
    "\n",
    "# Plot the NDVI\n",
    "plt.figure(figsize=(10, 8))\n",
    "plt.imshow(ndvi, origin='upper')\n",
    "plt.colorbar(label='NDVI')\n",
    "plt.title(\"1 km Monthly NDVI\")\n",
    "plt.xlabel(\"XDim\")\n",
    "plt.ylabel(\"YDim\")\n",
    "plt.show()\n",
    "\n",
    "plt.figure(figsize=(10, 8))\n",
    "plt.imshow(evi,origin='upper')\n",
    "plt.colorbar(label='NDVI')\n",
    "plt.title(\"1 km Monthly EVI\")\n",
    "plt.xlabel(\"XDim\")\n",
    "plt.ylabel(\"YDim\")\n",
    "plt.show()\n",
    "\n",
    "# # Close the dataset\n",
    "# dataset.close()\n",
    "\n",
    "# file_path = \"/Data/MOD13A3.A2010001.h18v07.061.2021152171119.hdf\"\n",
    "# dataset = Dataset(file_path, mode='r')\n",
    "\n",
    "# # Access the NDVI variable\n",
    "# ndvi = dataset.variables['1 km monthly NDVI'][:]\n",
    "\n",
    "# # NDVI is likely scaled; apply scaling factor if needed (check metadata or documentation)\n",
    "# # For now, assume it’s ready for visualization\n",
    "\n",
    "# # Plot the NDVI\n",
    "# plt.figure(figsize=(10, 8))\n",
    "# plt.imshow(ndvi, cmap='YlGn', origin='upper')\n",
    "# plt.colorbar(label='NDVI')\n",
    "# plt.title(\"1 km Monthly NDVI\")\n",
    "# plt.xlabel(\"XDim\")\n",
    "# plt.ylabel(\"YDim\")\n",
    "# plt.show()\n",
    "\n",
    "# # Close the dataset\n",
    "# dataset.close()"
   ]
  }
 ],
 "metadata": {
  "kernelspec": {
   "display_name": "ipeo_env",
   "language": "python",
   "name": "python3"
  },
  "language_info": {
   "codemirror_mode": {
    "name": "ipython",
    "version": 3
   },
   "file_extension": ".py",
   "mimetype": "text/x-python",
   "name": "python",
   "nbconvert_exporter": "python",
   "pygments_lexer": "ipython3",
   "version": "3.9.20"
  }
 },
 "nbformat": 4,
 "nbformat_minor": 2
}
