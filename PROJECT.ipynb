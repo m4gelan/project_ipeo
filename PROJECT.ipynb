{
 "cells": [
  {
   "cell_type": "code",
   "execution_count": 2,
   "metadata": {},
   "outputs": [
    {
     "name": "stderr",
     "output_type": "stream",
     "text": [
      "C:\\Users\\flore\\AppData\\Local\\Temp\\ipykernel_8708\\1483180514.py:19: UserWarning: To copy construct from a tensor, it is recommended to use sourceTensor.clone().detach() or sourceTensor.clone().detach().requires_grad_(True), rather than torch.tensor(sourceTensor).\n",
      "  return torch.tensor(x, dtype=torch.float32), torch.tensor(y, dtype=torch.float32)\n"
     ]
    },
    {
     "name": "stdout",
     "output_type": "stream",
     "text": [
      "Epoch 1/10, Loss: 0.2293\n",
      "Epoch 2/10, Loss: 0.0065\n",
      "Epoch 3/10, Loss: 0.0013\n",
      "Epoch 4/10, Loss: 0.0002\n",
      "Epoch 5/10, Loss: 0.0002\n",
      "Epoch 6/10, Loss: 0.0002\n",
      "Epoch 7/10, Loss: 0.0001\n",
      "Epoch 8/10, Loss: 0.0001\n",
      "Epoch 9/10, Loss: 0.0000\n",
      "Epoch 10/10, Loss: 0.0000\n",
      "Predicted value: -0.3292\n"
     ]
    }
   ],
   "source": [
    "import torch\n",
    "import torch.nn as nn\n",
    "from torch.utils.data import DataLoader, Dataset\n",
    "\n",
    "# Example: Custom dataset for time series\n",
    "class TimeSeriesDataset(Dataset):\n",
    "    def __init__(self, data, seq_length):\n",
    "        self.data = data\n",
    "        self.seq_length = seq_length\n",
    "\n",
    "    def __len__(self):\n",
    "        return len(self.data) - self.seq_length\n",
    "\n",
    "    def __getitem__(self, idx):\n",
    "        # Input: Sequence of length `seq_length`\n",
    "        x = self.data[idx:idx + self.seq_length]\n",
    "        # Target: The next value after the sequence\n",
    "        y = self.data[idx + self.seq_length]\n",
    "        return torch.tensor(x, dtype=torch.float32), torch.tensor(y, dtype=torch.float32)\n",
    "\n",
    "# Generate dummy data\n",
    "torch.manual_seed(42)\n",
    "data = torch.sin(torch.linspace(0, 100, steps=500))  # Simulated chlorophyll data\n",
    "seq_length = 12\n",
    "\n",
    "# Create dataset and DataLoader\n",
    "dataset = TimeSeriesDataset(data, seq_length)\n",
    "dataloader = DataLoader(dataset, batch_size=16, shuffle=True)\n",
    "\n",
    "# Define the LSTM model\n",
    "class LSTMModel(nn.Module):\n",
    "    def __init__(self, input_size, hidden_size, num_layers, output_size):\n",
    "        super(LSTMModel, self).__init__()\n",
    "        self.lstm = nn.LSTM(input_size, hidden_size, num_layers, batch_first=True)\n",
    "        self.fc = nn.Linear(hidden_size, output_size)\n",
    "\n",
    "    def forward(self, x):\n",
    "        # x: [Batch, Time steps, Features]\n",
    "        output, (hidden, cell) = self.lstm(x)  # LSTM output\n",
    "        hidden_out = hidden[-1]  # Take the last layer's hidden state\n",
    "        return self.fc(hidden_out)\n",
    "\n",
    "# Model parameters\n",
    "input_size = 1  # Single feature (e.g., chlorophyll)\n",
    "hidden_size = 64  # Number of LSTM units\n",
    "num_layers = 2  # Number of LSTM layers\n",
    "output_size = 1  # Predicting one value\n",
    "\n",
    "model = LSTMModel(input_size, hidden_size, num_layers, output_size)\n",
    "\n",
    "# Define loss function and optimizer\n",
    "criterion = nn.MSELoss()\n",
    "optimizer = torch.optim.Adam(model.parameters(), lr=0.001)\n",
    "\n",
    "# Training loop\n",
    "num_epochs = 10\n",
    "for epoch in range(num_epochs):\n",
    "    for batch_idx, (x_batch, y_batch) in enumerate(dataloader):\n",
    "        # Reshape input for LSTM: [Batch, Time steps, Features]\n",
    "        x_batch = x_batch.unsqueeze(-1)  # Add the feature dimension\n",
    "        y_batch = y_batch.unsqueeze(-1)  # Ensure target matches output shape\n",
    "        \n",
    "        # Forward pass\n",
    "        predictions = model(x_batch)\n",
    "        loss = criterion(predictions, y_batch)\n",
    "\n",
    "        # Backward pass\n",
    "        optimizer.zero_grad()\n",
    "        loss.backward()\n",
    "        optimizer.step()\n",
    "\n",
    "    print(f\"Epoch {epoch+1}/{num_epochs}, Loss: {loss.item():.4f}\")\n",
    "\n",
    "# Testing the model\n",
    "model.eval()\n",
    "with torch.no_grad():\n",
    "    test_seq = data[-seq_length:].unsqueeze(0).unsqueeze(-1)  # Last sequence\n",
    "    predicted = model(test_seq)\n",
    "    print(f\"Predicted value: {predicted.item():.4f}\")\n",
    "\n"
   ]
  },
  {
   "cell_type": "code",
   "execution_count": null,
   "metadata": {},
   "outputs": [],
   "source": []
  }
 ],
 "metadata": {
  "kernelspec": {
   "display_name": "ipeo_env",
   "language": "python",
   "name": "python3"
  },
  "language_info": {
   "codemirror_mode": {
    "name": "ipython",
    "version": 3
   },
   "file_extension": ".py",
   "mimetype": "text/x-python",
   "name": "python",
   "nbconvert_exporter": "python",
   "pygments_lexer": "ipython3",
   "version": "3.9.20"
  }
 },
 "nbformat": 4,
 "nbformat_minor": 2
}
