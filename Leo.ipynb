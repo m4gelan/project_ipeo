{
  "cells": [
    {
      "cell_type": "code",
      "execution_count": null,
      "metadata": {
        "vscode": {
          "languageId": "plaintext"
        },
        "id": "FLBZ-2PVmFhA"
      },
      "outputs": [],
      "source": [
        "from google.colab import drive\n",
        "from ultralytics import YOLO\n",
        "import matplotlib.pyplot as plt\n",
        "import rasterio\n",
        "import os"
      ]
    },
    {
      "cell_type": "code",
      "source": [
        "drive.mount('/content/drive')\n",
        "\n",
        "# Define the path to your dataset and model configuration\n",
        "data_path = \"/content/drive/My Drive/epfl/MA3/Image processing/PROJET/project_ipeo/Data/dataset_surface_hillshade/train/images\"\n",
        "config_file = \"yolov8n.yaml\""
      ],
      "metadata": {
        "id": "YRQ0DpVtZj5G"
      },
      "execution_count": null,
      "outputs": []
    },
    {
      "cell_type": "code",
      "source": [
        "def display_images(data_path):\n",
        "    # List all .tif files in the directory\n",
        "    tif_files = [f for f in os.listdir(data_path) if f.endswith('.tif')]\n",
        "\n",
        "    # Ensure there are at least 5 images\n",
        "    num_images = min(5, len(tif_files))\n",
        "    if num_images == 0:\n",
        "        print(\"No .tif files found in the directory.\")\n",
        "        return\n",
        "\n",
        "    # Plot the first 5 images\n",
        "    fig, axes = plt.subplots(1, num_images, figsize=(15, 5))\n",
        "    for i in range(num_images):\n",
        "        file_path = os.path.join(data_path, tif_files[i])\n",
        "        with rasterio.open(file_path) as src:\n",
        "            image = src.read(1)  # Read the first band\n",
        "        axes[i].imshow(image, cmap='gray')\n",
        "        axes[i].set_title(f\"Image {i+1}\")\n",
        "        axes[i].axis('off')\n",
        "    plt.tight_layout()\n",
        "    plt.show()\n",
        "\n",
        "# Display the images\n",
        "display_images(data_path)"
      ],
      "metadata": {
        "id": "ss8MrzYrZmOP"
      },
      "execution_count": null,
      "outputs": []
    },
    {
      "cell_type": "code",
      "source": [
        "model = YOLO(config_file)  # Load a YOLOv8 model\n",
        "\n",
        "# Train the model\n",
        "model.train(\n",
        "    data=\"/content/drive/My Drive/epfl/MA3/Image processing/PROJET/project_ipeo/Data/dataset_surface_hillshade/dataset.yaml\",          # Path to the dataset\n",
        "    epochs=10,               # Number of training epochs\n",
        "    imgsz=640,               # Image size for training\n",
        "    batch=16,                # Batch size\n",
        "    name=\"yolov8_hillshade\", # Name of the training run\n",
        "    project=\"yolov8_train\",  # Directory to save training results\n",
        "    workers=4                # Number of data loader workers\n",
        ")\n",
        ""
      ],
      "metadata": {
        "id": "gayJnteDZr-t"
      },
      "execution_count": null,
      "outputs": []
    }
  ],
  "metadata": {
    "language_info": {
      "name": "python"
    },
    "colab": {
      "provenance": []
    }
  },
  "nbformat": 4,
  "nbformat_minor": 0
}