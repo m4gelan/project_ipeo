{
 "cells": [
  {
   "cell_type": "markdown",
   "metadata": {},
   "source": [
    "# Large Rocks Detection Project\n",
    "\n",
    "### Outline\n",
    "\n",
    "1. Load the dataset av in google collab\n",
    "2. Data Augmentation + normalisation calling 'dataset.py'\n",
    "3. train the model calling 'model.py'\n",
    "5. fight overfitting with regularization (val)\n",
    "6. Final on test and visualise\n",
    "7. Accuracy metrics (end)"
   ]
  },
  {
   "cell_type": "code",
   "execution_count": null,
   "metadata": {},
   "outputs": [],
   "source": []
  }
 ],
 "metadata": {
  "kernelspec": {
   "display_name": "ipeo_env",
   "language": "python",
   "name": "python3"
  },
  "language_info": {
   "codemirror_mode": {
    "name": "ipython",
    "version": 3
   },
   "file_extension": ".py",
   "mimetype": "text/x-python",
   "name": "python",
   "nbconvert_exporter": "python",
   "pygments_lexer": "ipython3",
   "version": "3.9.20"
  }
 },
 "nbformat": 4,
 "nbformat_minor": 2
}
