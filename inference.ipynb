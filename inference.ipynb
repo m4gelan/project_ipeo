{
 "cells": [
  {
   "cell_type": "markdown",
   "metadata": {},
   "source": [
    "# Large Rocks Detection Project\n",
    "\n",
    "### Outline\n",
    "\n",
    "1. Dataset provided store in train/val/test (AND NORMALISED?)\n",
    "2. Data Augmentation\n",
    "3. load YOLOv8 pre-trained model\n",
    "3. train the model on the training set\n",
    "4. test on the validation set\n",
    "5. fight overfitting with regularization"
   ]
  },
  {
   "cell_type": "code",
   "execution_count": null,
   "metadata": {},
   "outputs": [],
   "source": []
  }
 ],
 "metadata": {
  "kernelspec": {
   "display_name": "ipeo_env",
   "language": "python",
   "name": "python3"
  },
  "language_info": {
   "codemirror_mode": {
    "name": "ipython",
    "version": 3
   },
   "file_extension": ".py",
   "mimetype": "text/x-python",
   "name": "python",
   "nbconvert_exporter": "python",
   "pygments_lexer": "ipython3",
   "version": "3.9.20"
  }
 },
 "nbformat": 4,
 "nbformat_minor": 2
}
